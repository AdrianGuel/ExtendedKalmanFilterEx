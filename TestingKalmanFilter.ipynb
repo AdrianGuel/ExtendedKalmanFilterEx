{
  "nbformat": 4,
  "nbformat_minor": 0,
  "metadata": {
    "colab": {
      "name": "TestingKalmanFilter.ipynb",
      "provenance": [],
      "authorship_tag": "ABX9TyPamwJ1QPrwa81sge7On3P/",
      "include_colab_link": true
    },
    "kernelspec": {
      "name": "python3",
      "display_name": "Python 3"
    },
    "language_info": {
      "name": "python"
    }
  },
  "cells": [
    {
      "cell_type": "markdown",
      "metadata": {
        "id": "view-in-github",
        "colab_type": "text"
      },
      "source": [
        "<a href=\"https://colab.research.google.com/github/AdrianGuel/ExtendedKalmanFilterEx/blob/main/TestingKalmanFilter.ipynb\" target=\"_parent\"><img src=\"https://colab.research.google.com/assets/colab-badge.svg\" alt=\"Open In Colab\"/></a>"
      ]
    },
    {
      "cell_type": "markdown",
      "source": [
        "https://filterpy.readthedocs.io/en/latest/index.html\n",
        "\n",
        "https://elec3004.uqcloud.net/2015/tutes/Kalman_and_Bayesian_Filters_in_Python.\n",
        "pdf"
      ],
      "metadata": {
        "id": "MuAKvUmXft2u"
      }
    },
    {
      "cell_type": "code",
      "execution_count": null,
      "metadata": {
        "colab": {
          "base_uri": "https://localhost:8080/"
        },
        "id": "aAqaUqIJfo49",
        "outputId": "6653dbdf-2ff4-4885-d40b-26b657a1ca16"
      },
      "outputs": [
        {
          "output_type": "stream",
          "name": "stdout",
          "text": [
            "Looking in indexes: https://pypi.org/simple, https://us-python.pkg.dev/colab-wheels/public/simple/\n",
            "Collecting filterpy\n",
            "  Downloading filterpy-1.4.5.zip (177 kB)\n",
            "\u001b[K     |████████████████████████████████| 177 kB 5.4 MB/s \n",
            "\u001b[?25hRequirement already satisfied: numpy in /usr/local/lib/python3.7/dist-packages (from filterpy) (1.21.6)\n",
            "Requirement already satisfied: scipy in /usr/local/lib/python3.7/dist-packages (from filterpy) (1.4.1)\n",
            "Requirement already satisfied: matplotlib in /usr/local/lib/python3.7/dist-packages (from filterpy) (3.2.2)\n",
            "Requirement already satisfied: kiwisolver>=1.0.1 in /usr/local/lib/python3.7/dist-packages (from matplotlib->filterpy) (1.4.3)\n",
            "Requirement already satisfied: pyparsing!=2.0.4,!=2.1.2,!=2.1.6,>=2.0.1 in /usr/local/lib/python3.7/dist-packages (from matplotlib->filterpy) (3.0.9)\n",
            "Requirement already satisfied: python-dateutil>=2.1 in /usr/local/lib/python3.7/dist-packages (from matplotlib->filterpy) (2.8.2)\n",
            "Requirement already satisfied: cycler>=0.10 in /usr/local/lib/python3.7/dist-packages (from matplotlib->filterpy) (0.11.0)\n",
            "Requirement already satisfied: typing-extensions in /usr/local/lib/python3.7/dist-packages (from kiwisolver>=1.0.1->matplotlib->filterpy) (4.1.1)\n",
            "Requirement already satisfied: six>=1.5 in /usr/local/lib/python3.7/dist-packages (from python-dateutil>=2.1->matplotlib->filterpy) (1.15.0)\n",
            "Building wheels for collected packages: filterpy\n",
            "  Building wheel for filterpy (setup.py) ... \u001b[?25l\u001b[?25hdone\n",
            "  Created wheel for filterpy: filename=filterpy-1.4.5-py3-none-any.whl size=110474 sha256=3d966427556223e7e9b851eb58e562282945e7c06b9dbd19da5141a09fcca173\n",
            "  Stored in directory: /root/.cache/pip/wheels/ce/e0/ee/a2b3c5caab3418c1ccd8c4de573d4cbe13315d7e8b0a55fbc2\n",
            "Successfully built filterpy\n",
            "Installing collected packages: filterpy\n",
            "Successfully installed filterpy-1.4.5\n"
          ]
        }
      ],
      "source": [
        "! pip install filterpy"
      ]
    },
    {
      "cell_type": "code",
      "source": [
        "from filterpy.kalman import KalmanFilter\n",
        "from filterpy.common import Q_discrete_white_noise\n",
        "import numpy as np\n",
        "\n",
        "f = KalmanFilter(dim_x=2, dim_z=1)\n",
        "\n",
        "f.x = np.array([[2.],    # position\n",
        "                [0.]])   # velocity\n",
        "f.F = np.array([[1.,1.],\n",
        "                [0.,1.]])\n",
        "f.H = np.array([[1.,0.]])\n",
        "f.P = np.array([[1000.,    0.],\n",
        "                [   0., 1000.] ])\n",
        "f.R = 5\n",
        "f.Q = Q_discrete_white_noise(dim=2, dt=0.1, var=0.13)\n",
        "\n",
        "iterator=2\n",
        "z=1\n",
        "while iterator<10:\n",
        "  f.predict()\n",
        "  f.update(z)\n",
        "  iterator+=1  "
      ],
      "metadata": {
        "id": "YnOyABPSf11G"
      },
      "execution_count": null,
      "outputs": []
    },
    {
      "cell_type": "code",
      "source": [
        "f.x"
      ],
      "metadata": {
        "id": "EeV2yOrVhsg1",
        "outputId": "d3cf1707-0bf4-4ed6-ef7e-6551b4aef860",
        "colab": {
          "base_uri": "https://localhost:8080/"
        }
      },
      "execution_count": null,
      "outputs": [
        {
          "output_type": "execute_result",
          "data": {
            "text/plain": [
              "array([[ 9.98758463e-01],\n",
              "       [-5.30867735e-04]])"
            ]
          },
          "metadata": {},
          "execution_count": 8
        }
      ]
    },
    {
      "cell_type": "code",
      "source": [],
      "metadata": {
        "id": "_U_pjTmvhtFu"
      },
      "execution_count": null,
      "outputs": []
    }
  ]
}